{
 "cells": [
  {
   "cell_type": "code",
   "execution_count": 54,
   "metadata": {},
   "outputs": [],
   "source": [
    "from telethon import TelegramClient\n",
    "import pandas as pd"
   ]
  },
  {
   "cell_type": "code",
   "execution_count": 61,
   "metadata": {},
   "outputs": [],
   "source": [
    "api_id = 0\n",
    "api_hash = ''\n",
    "phone = '+71234567890'\n",
    "channel_href = 'https://t.me/leftjoin'"
   ]
  },
  {
   "cell_type": "code",
   "execution_count": 62,
   "metadata": {},
   "outputs": [],
   "source": [
    "client = TelegramClient('xxx', api_id, api_hash)\n",
    "client = await client.start()\n",
    "dialogs = await client.get_dialogs()"
   ]
  },
  {
   "cell_type": "code",
   "execution_count": 63,
   "metadata": {},
   "outputs": [],
   "source": [
    "channels = {d.entity.username: d.entity\n",
    "            for d in dialogs\n",
    "            if d.is_channel}\n",
    "my_channel = channel_href.split('/')[-1]\n",
    "channel = channels[my_channel]\n",
    "members_telethon_list = await client.get_participants(channel, aggressive=True)\n",
    "username_list = [member.username for member in members_telethon_list]\n",
    "first_name_list = [member.first_name for member in members_telethon_list]\n",
    "last_name_list = [member.last_name for member in members_telethon_list]\n",
    "phone_list = [member.phone for member in members_telethon_list]"
   ]
  },
  {
   "cell_type": "code",
   "execution_count": 64,
   "metadata": {},
   "outputs": [],
   "source": [
    "df = pd.DataFrame()\n",
    "df['username'] = username_list\n",
    "df['first_name'] = first_name_list\n",
    "df['last_name'] = last_name_list\n",
    "df['phone'] = phone_list"
   ]
  },
  {
   "cell_type": "code",
   "execution_count": 65,
   "metadata": {},
   "outputs": [],
   "source": [
    "df.to_csv('subscribers.csv', index=False)"
   ]
  }
 ],
 "metadata": {
  "kernelspec": {
   "display_name": "Python 3",
   "language": "python",
   "name": "python3"
  },
  "language_info": {
   "codemirror_mode": {
    "name": "ipython",
    "version": 3
   },
   "file_extension": ".py",
   "mimetype": "text/x-python",
   "name": "python",
   "nbconvert_exporter": "python",
   "pygments_lexer": "ipython3",
   "version": "3.7.6"
  }
 },
 "nbformat": 4,
 "nbformat_minor": 4
}
