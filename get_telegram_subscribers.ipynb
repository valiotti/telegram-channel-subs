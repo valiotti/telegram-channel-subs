{
 "cells": [
  {
   "cell_type": "code",
   "execution_count": 49,
   "metadata": {},
   "outputs": [],
   "source": [
    "from telethon import TelegramClient\n",
    "import pandas as pd"
   ]
  },
  {
   "cell_type": "code",
   "execution_count": null,
   "metadata": {},
   "outputs": [],
   "source": [
    "api_id = 0\n",
    "api_hash = ''\n",
    "phone = '+79123456789'\n",
    "my_channel = ''"
   ]
  },
  {
   "cell_type": "code",
   "execution_count": null,
   "metadata": {},
   "outputs": [],
   "source": [
    "client = TelegramClient('xxx', api_id, api_hash)\n",
    "client = await client.start()\n",
    "dialogs = await client.get_dialogs()"
   ]
  },
  {
   "cell_type": "code",
   "execution_count": 50,
   "metadata": {},
   "outputs": [],
   "source": [
    "channels = {d.entity.username: d.entity\n",
    "            for d in dialogs\n",
    "            if d.is_channel}\n",
    "channel = channels[my_channel]\n",
    "members_telethon_list = await client.get_participants(channel, aggressive=True)\n",
    "username_list = [member.username for member in members_telethon_list]\n",
    "first_name_list = [member.first_name for member in members_telethon_list]\n",
    "last_name_list = [member.last_name for member in members_telethon_list]\n",
    "phone_list = [member.phone for member in members_telethon_list]"
   ]
  },
  {
   "cell_type": "code",
   "execution_count": 51,
   "metadata": {},
   "outputs": [],
   "source": [
    "df = pd.DataFrame()\n",
    "df['username'] = username_list\n",
    "df['first_name'] = first_name_list\n",
    "df['last_name'] = last_name_list\n",
    "df['phone'] = phone_list"
   ]
  },
  {
   "cell_type": "code",
   "execution_count": 53,
   "metadata": {},
   "outputs": [],
   "source": [
    "df.to_csv('subscribers.csv', index=False)"
   ]
  },
  {
   "cell_type": "code",
   "execution_count": null,
   "metadata": {},
   "outputs": [],
   "source": []
  }
 ],
 "metadata": {
  "kernelspec": {
   "display_name": "Python 3",
   "language": "python",
   "name": "python3"
  },
  "language_info": {
   "codemirror_mode": {
    "name": "ipython",
    "version": 3
   },
   "file_extension": ".py",
   "mimetype": "text/x-python",
   "name": "python",
   "nbconvert_exporter": "python",
   "pygments_lexer": "ipython3",
   "version": "3.7.6"
  }
 },
 "nbformat": 4,
 "nbformat_minor": 4
}
