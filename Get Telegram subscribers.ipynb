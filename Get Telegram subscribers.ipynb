{
 "cells": [
  {
   "cell_type": "code",
   "execution_count": null,
   "metadata": {},
   "outputs": [],
   "source": [
    "from telethon import TelegramClient"
   ]
  },
  {
   "cell_type": "code",
   "execution_count": null,
   "metadata": {},
   "outputs": [],
   "source": [
    "api_id = 2119671\n",
    "api_hash = 'd0d014cb8d7cdb5678f18e91fd927ab1'\n",
    "phone = '+79047659836'\n",
    "my_channel = 'leftjoin"
   ]
  },
  {
   "cell_type": "code",
   "execution_count": null,
   "metadata": {},
   "outputs": [],
   "source": [
    "client = TelegramClient('xxx', api_id, api_hash)\n",
    "client = await client.start()\n",
    "dialogs = await client.get_dialogs()"
   ]
  },
  {
   "cell_type": "code",
   "execution_count": 21,
   "metadata": {},
   "outputs": [],
   "source": [
    "channels = {d.entity.username: d.entity\n",
    "            for d in dialogs\n",
    "            if d.is_channel}\n",
    "channel = channels[my_channel]\n",
    "members_telethon_list = await client.get_participants(channel, aggressive=True)\n",
    "members_list = [member.username for member in members_telethon_list if member.username is not None]"
   ]
  },
  {
   "cell_type": "code",
   "execution_count": null,
   "metadata": {},
   "outputs": [],
   "source": [
    "with open('subscribers.txt', 'w') as f:\n",
    "    for item in members_list:\n",
    "        f.write(\"%s\\n\" % item)"
   ]
  }
 ],
 "metadata": {
  "kernelspec": {
   "display_name": "Python 3",
   "language": "python",
   "name": "python3"
  },
  "language_info": {
   "codemirror_mode": {
    "name": "ipython",
    "version": 3
   },
   "file_extension": ".py",
   "mimetype": "text/x-python",
   "name": "python",
   "nbconvert_exporter": "python",
   "pygments_lexer": "ipython3",
   "version": "3.7.6"
  }
 },
 "nbformat": 4,
 "nbformat_minor": 4
}
